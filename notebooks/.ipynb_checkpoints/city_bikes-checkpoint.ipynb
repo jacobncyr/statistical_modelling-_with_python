{
 "cells": [
  {
   "cell_type": "markdown",
   "metadata": {},
   "source": [
    "# CityBikes"
   ]
  },
  {
   "cell_type": "markdown",
   "metadata": {},
   "source": [
    "Send a request to CityBikes for the city of your choice. "
   ]
  },
  {
   "cell_type": "code",
   "execution_count": 6,
   "metadata": {},
   "outputs": [],
   "source": [
    "import requests, pandas as pd\n",
    "response = requests.get('http://api.citybik.es/v2/networks')\n",
    "if response.status_code == 200:\n",
    "    data = response.json()\n",
    "else:\n",
    "    print(\"incorrect response\")\n",
    "\n"
   ]
  },
  {
   "cell_type": "markdown",
   "metadata": {},
   "source": [
    "Parse through the response to get the details you want for the bike stations in that city (latitude, longitude, number of bikes). "
   ]
  },
  {
   "cell_type": "code",
   "execution_count": 22,
   "metadata": {},
   "outputs": [],
   "source": [
    "#set paris as the network dictionary \n",
    "for network in data['networks']:\n",
    "    if network['location']['city'] == 'Paris':\n",
    "        paris_network = network\n",
    "        pass\n",
    "\n",
    "paris_endpoint = paris_network['href']\n",
    "paris_response = requests.get(f\"http://api.citybik.es\" + paris_endpoint)\n",
    "paris_data = paris_response.json()\n",
    "stations = paris_data['network']['stations']\n",
    "df = pd.DataFrame(stations)\n",
    "\n"
   ]
  },
  {
   "cell_type": "markdown",
   "metadata": {},
   "source": [
    "Put your parsed results into a DataFrame."
   ]
  },
  {
   "cell_type": "code",
   "execution_count": 20,
   "metadata": {},
   "outputs": [],
   "source": [
    "paris_data = paris_response.json()\n",
    "stations = paris_data['network']['stations']\n",
    "df = pd.DataFrame(stations)\n",
    "df = df.drop(columns='extra')\n",
    "\n"
   ]
  },
  {
   "cell_type": "code",
   "execution_count": 21,
   "metadata": {},
   "outputs": [
    {
     "name": "stdout",
     "output_type": "stream",
     "text": [
      "<bound method NDFrame.head of       empty_slots  free_bikes                                id   latitude  \\\n",
      "0              33           2  78ec9186acd18a0b30bd3156d24b9f8d  48.865983   \n",
      "1              49           2  43c856353b954711f2bbee185a1f9d04  48.853756   \n",
      "2              31           3  9b2700f3b19beb1dd9df2fd6a013789f  48.867872   \n",
      "3              16           4  80778031e1a033712bfc3a27a190d5dd  48.856452   \n",
      "4              21           0  f8f9ec30d28856f9b7fad103be9e4674  48.879296   \n",
      "...           ...         ...                               ...        ...   \n",
      "1445           23           4  feddaa6b527125b9f2d1411daeef4c7c  48.881742   \n",
      "1446            6          26  df9e51f77064303346c915ac34d985aa  48.778917   \n",
      "1447           28           7  733584ccd52e8d354e5f533f58bbf1a5  48.938452   \n",
      "1448           14          15  77323e3c46650ca40881e62356cdd809  48.827228   \n",
      "1449            7          18  362591c2bcac06632f54009ef8c2f242  48.910482   \n",
      "\n",
      "      longitude                                name  \\\n",
      "0      2.275725       Benjamin Godard - Victor Hugo   \n",
      "1      2.339096  André Mazet - Saint-André des Arts   \n",
      "2      2.364898     Faubourg Du Temple - Republique   \n",
      "3      2.334852              Beaux-Arts - Bonaparte   \n",
      "4      2.337360                  Toudouze - Clauzel   \n",
      "...         ...                                 ...   \n",
      "1445   2.271005  Charles de Gaulle - Louis Philippe   \n",
      "1446   2.288736                    Mairie de Sceaux   \n",
      "1447   2.371807      Henri Barbusse - Marcel Cachin   \n",
      "1448   2.268123      Charlot - Stade Gabriel Voisin   \n",
      "1449   2.297998             Quai du docteur Dervaux   \n",
      "\n",
      "                        timestamp  \n",
      "0     2023-06-04T06:01:29.940000Z  \n",
      "1     2023-06-04T06:01:29.899000Z  \n",
      "2     2023-06-04T06:01:28.526000Z  \n",
      "3     2023-06-04T06:01:28.794000Z  \n",
      "4     2023-06-04T06:01:28.854000Z  \n",
      "...                           ...  \n",
      "1445  2023-06-04T06:01:28.431000Z  \n",
      "1446  2023-06-04T06:01:28.403000Z  \n",
      "1447  2023-06-04T06:01:29.425000Z  \n",
      "1448  2023-06-04T06:01:29.361000Z  \n",
      "1449  2023-06-04T06:01:29.487000Z  \n",
      "\n",
      "[1450 rows x 7 columns]>\n"
     ]
    }
   ],
   "source": [
    "print(df.head)"
   ]
  },
  {
   "cell_type": "code",
   "execution_count": null,
   "metadata": {},
   "outputs": [],
   "source": []
  },
  {
   "cell_type": "code",
   "execution_count": null,
   "metadata": {},
   "outputs": [],
   "source": []
  }
 ],
 "metadata": {
  "kernelspec": {
   "display_name": "Python 3 (ipykernel)",
   "language": "python",
   "name": "python3"
  },
  "language_info": {
   "codemirror_mode": {
    "name": "ipython",
    "version": 3
   },
   "file_extension": ".py",
   "mimetype": "text/x-python",
   "name": "python",
   "nbconvert_exporter": "python",
   "pygments_lexer": "ipython3",
   "version": "3.10.9"
  }
 },
 "nbformat": 4,
 "nbformat_minor": 4
}
