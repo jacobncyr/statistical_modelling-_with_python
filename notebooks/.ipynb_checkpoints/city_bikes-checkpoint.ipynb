{
 "cells": [
  {
   "cell_type": "markdown",
   "metadata": {},
   "source": [
    "# CityBikes"
   ]
  },
  {
   "cell_type": "markdown",
   "metadata": {},
   "source": [
    "Send a request to CityBikes for the city of your choice. "
   ]
  },
  {
   "cell_type": "code",
   "execution_count": 26,
   "metadata": {},
   "outputs": [],
   "source": [
    "import requests, pandas as pd\n",
    "response = requests.get('http://api.citybik.es/v2/networks')\n",
    "data = response.json()"
   ]
  },
  {
   "cell_type": "markdown",
   "metadata": {},
   "source": [
    "Parse through the response to get the details you want for the bike stations in that city (latitude, longitude, number of bikes). "
   ]
  },
  {
   "cell_type": "code",
   "execution_count": 34,
   "metadata": {},
   "outputs": [],
   "source": [
    "#nested dictionary structure, look for specific city in this case Paris because the documentation used it as an example\n",
    "def get_citybikes_by_city(city):\n",
    "    \"\"\"\n",
    "    this is my functiont that takes a string city name as a paremeter and returns a dataframe of the nearby citybikes\n",
    "    \"\"\"\n",
    "    response = requests.get(f\"http://api.citybik.es/v2/networks/velib\")\n",
    "    jsonobject = response.json()\n",
    "    stations = jsonobject['network']['stations']\n",
    "    df = pd.DataFrame(stations)\n",
    "    return df\n"
   ]
  },
  {
   "cell_type": "markdown",
   "metadata": {},
   "source": [
    "Put your parsed results into a DataFrame."
   ]
  },
  {
   "cell_type": "code",
   "execution_count": 37,
   "metadata": {},
   "outputs": [
    {
     "name": "stdout",
     "output_type": "stream",
     "text": [
      "   empty_slots  free_bikes                                id   latitude  \\\n",
      "0           30           5  78ec9186acd18a0b30bd3156d24b9f8d  48.865983   \n",
      "1           30          23  43c856353b954711f2bbee185a1f9d04  48.853756   \n",
      "2           33           4  9b2700f3b19beb1dd9df2fd6a013789f  48.867872   \n",
      "3           15           5  80778031e1a033712bfc3a27a190d5dd  48.856452   \n",
      "4           19           2  f8f9ec30d28856f9b7fad103be9e4674  48.879296   \n",
      "\n",
      "   longitude                                name                    timestamp  \\\n",
      "0   2.275725       Benjamin Godard - Victor Hugo  2023-06-04T22:22:17.836000Z   \n",
      "1   2.339096  André Mazet - Saint-André des Arts  2023-06-04T22:22:17.781000Z   \n",
      "2   2.364898     Faubourg Du Temple - Republique  2023-06-04T22:22:15.715000Z   \n",
      "3   2.334852              Beaux-Arts - Bonaparte  2023-06-04T22:22:16.298000Z   \n",
      "4   2.337360                  Toudouze - Clauzel  2023-06-04T22:22:16.388000Z   \n",
      "\n",
      "   banking  ebikes  last_updated  payment-terminal  renting  returning  slots  \\\n",
      "0    False       3    1685914179             False        1          1     35   \n",
      "1     True       0    1685914119              True        1          1     55   \n",
      "2     True       3    1685913996              True        1          1     38   \n",
      "3     True       0    1685914072              True        1          1     20   \n",
      "4     True       0    1685913984              True        1          1     21   \n",
      "\n",
      "   station_id    uid       payment  \n",
      "0   213688169  16107           NaN  \n",
      "1    99950133   6015  [creditcard]  \n",
      "2   312165511  11037  [creditcard]  \n",
      "3   210405211   6021  [creditcard]  \n",
      "4       36255   9020  [creditcard]  \n"
     ]
    }
   ],
   "source": [
    "df = get_citybikes_by_city(\"Paris\")\n",
    "\n",
    "#normalize\n",
    "df_extra = pd.json_normalize(df['extra'])\n",
    "df = pd.concat([df, df_extra], axis=1)\n",
    "df.drop('extra', axis=1, inplace=True)\n",
    "\n",
    "print(df.head())\n",
    "\n"
   ]
  },
  {
   "cell_type": "code",
   "execution_count": null,
   "metadata": {},
   "outputs": [],
   "source": []
  }
 ],
 "metadata": {
  "kernelspec": {
   "display_name": "Python 3 (ipykernel)",
   "language": "python",
   "name": "python3"
  },
  "language_info": {
   "codemirror_mode": {
    "name": "ipython",
    "version": 3
   },
   "file_extension": ".py",
   "mimetype": "text/x-python",
   "name": "python",
   "nbconvert_exporter": "python",
   "pygments_lexer": "ipython3",
   "version": "3.10.9"
  }
 },
 "nbformat": 4,
 "nbformat_minor": 4
}
