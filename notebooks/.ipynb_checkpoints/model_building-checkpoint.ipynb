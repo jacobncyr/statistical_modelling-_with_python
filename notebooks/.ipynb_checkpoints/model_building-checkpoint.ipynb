{
 "cells": [
  {
   "cell_type": "markdown",
   "metadata": {},
   "source": [
    "Build a regression model."
   ]
  },
  {
   "cell_type": "code",
   "execution_count": 12,
   "metadata": {},
   "outputs": [
    {
     "name": "stdout",
     "output_type": "stream",
     "text": [
      "\n",
      "Data from 'results' table:\n",
      "<class 'pandas.core.frame.DataFrame'>\n",
      "RangeIndex: 1520 entries, 0 to 1519\n",
      "Data columns (total 11 columns):\n",
      " #   Column       Non-Null Count  Dtype  \n",
      "---  ------       --------------  -----  \n",
      " 0   id           1500 non-null   object \n",
      " 1   name         1520 non-null   object \n",
      " 2   location     50 non-null     object \n",
      " 3   Rating       20 non-null     float64\n",
      " 4   Address      20 non-null     object \n",
      " 5   Phone        20 non-null     object \n",
      " 6   empty_slots  1450 non-null   float64\n",
      " 7   free_bikes   1450 non-null   float64\n",
      " 8   latitude     1450 non-null   float64\n",
      " 9   longitude    1450 non-null   float64\n",
      " 10  timestamp    1450 non-null   object \n",
      "dtypes: float64(5), object(6)\n",
      "memory usage: 130.8+ KB\n",
      "None\n",
      "                            OLS Regression Results                            \n",
      "==============================================================================\n",
      "Dep. Variable:             free_bikes   R-squared:                       0.045\n",
      "Model:                            OLS   Adj. R-squared:                  0.043\n",
      "Method:                 Least Squares   F-statistic:                     33.86\n",
      "Date:                Sun, 04 Jun 2023   Prob (F-statistic):           4.27e-15\n",
      "Time:                        17:17:04   Log-Likelihood:                -5364.3\n",
      "No. Observations:                1450   AIC:                         1.073e+04\n",
      "Df Residuals:                    1447   BIC:                         1.075e+04\n",
      "Df Model:                           2                                         \n",
      "Covariance Type:            nonrobust                                         \n",
      "==============================================================================\n",
      "                 coef    std err          t      P>|t|      [0.025      0.975]\n",
      "------------------------------------------------------------------------------\n",
      "const       3371.2894    414.981      8.124      0.000    2557.260    4185.319\n",
      "latitude     -68.9491      8.479     -8.132      0.000     -85.581     -52.317\n",
      "longitude      3.7058      4.578      0.809      0.418      -5.275      12.687\n",
      "==============================================================================\n",
      "Omnibus:                      347.488   Durbin-Watson:                   1.953\n",
      "Prob(Omnibus):                  0.000   Jarque-Bera (JB):              749.108\n",
      "Skew:                           1.351   Prob(JB):                    2.15e-163\n",
      "Kurtosis:                       5.258   Cond. No.                     7.90e+04\n",
      "==============================================================================\n",
      "\n",
      "Notes:\n",
      "[1] Standard Errors assume that the covariance matrix of the errors is correctly specified.\n",
      "[2] The condition number is large, 7.9e+04. This might indicate that there are\n",
      "strong multicollinearity or other numerical problems.\n"
     ]
    }
   ],
   "source": [
    "import numpy as np\n",
    "import pandas as pd\n",
    "import statsmodels.api as sm\n",
    "import sqlite3\n",
    "\n",
    "conn = sqlite3.connect(r'C:\\Users\\juju\\Desktop\\statistical_modelling-_with_python\\data\\results.db')\n",
    "df_results = pd.read_sql_query(\"SELECT * FROM results\", conn)\n",
    "print(\"\\nData from 'results' table:\")\n",
    "print(df_results.info())\n",
    "conn.close()\n",
    "\n",
    "# Drop rows with missing values\n",
    "df_results_cleaned = df_results.dropna(subset=['free_bikes', 'latitude', 'longitude'])\n",
    "\n",
    "# Pick variables\n",
    "y = df_results_cleaned['free_bikes']\n",
    "X = df_results_cleaned[['latitude', 'longitude']]\n",
    "\n",
    "# TODO figure out how ot use ~ notation\n",
    "model = sm.OLS(y, sm.add_constant(X))\n",
    "\n",
    "# Fit the model\n",
    "results = model.fit()\n",
    "\n",
    "# Print the summary of the regression model\n",
    "print(results.summary())\n",
    "\n",
    "\n"
   ]
  },
  {
   "cell_type": "markdown",
   "metadata": {},
   "source": [
    "Provide model output and an interpretation of the results. "
   ]
  },
  {
   "cell_type": "code",
   "execution_count": null,
   "metadata": {},
   "outputs": [],
   "source": [
    "#Based on the given model output, the variable latitude is a good predictor of the number of free bikes available, \n",
    "#while longitude does not appear to be a significant predictor. However, the overall predictive power of the model, \n",
    "#as indicated by the low R-squared value (0.045),suggests limited ability of these variables to explain the variability in the number of free bikes."
   ]
  },
  {
   "cell_type": "markdown",
   "metadata": {},
   "source": [
    "# Stretch"
   ]
  },
  {
   "cell_type": "markdown",
   "metadata": {},
   "source": [
    "How can you turn the regression model into a classification model?"
   ]
  },
  {
   "cell_type": "code",
   "execution_count": 15,
   "metadata": {},
   "outputs": [],
   "source": [
    "#to create a classification problem i need to categorize the free_bikes variable. The simple way would be to\n",
    "#define a new column called \"lots of free bikes\" and have its values be 1 or zero. The threshold value would be \n",
    "#the number of bikes required to become a 1."
   ]
  },
  {
   "cell_type": "code",
   "execution_count": null,
   "metadata": {},
   "outputs": [],
   "source": []
  }
 ],
 "metadata": {
  "kernelspec": {
   "display_name": "Python 3 (ipykernel)",
   "language": "python",
   "name": "python3"
  },
  "language_info": {
   "codemirror_mode": {
    "name": "ipython",
    "version": 3
   },
   "file_extension": ".py",
   "mimetype": "text/x-python",
   "name": "python",
   "nbconvert_exporter": "python",
   "pygments_lexer": "ipython3",
   "version": "3.10.9"
  }
 },
 "nbformat": 4,
 "nbformat_minor": 4
}
