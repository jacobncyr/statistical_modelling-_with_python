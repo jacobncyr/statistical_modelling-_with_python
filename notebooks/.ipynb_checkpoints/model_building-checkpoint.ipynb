{
 "cells": [
  {
   "cell_type": "markdown",
   "metadata": {},
   "source": [
    "Build a regression model."
   ]
  },
  {
   "cell_type": "code",
   "execution_count": 4,
   "metadata": {},
   "outputs": [
    {
     "name": "stdout",
     "output_type": "stream",
     "text": [
      "                            OLS Regression Results                            \n",
      "==============================================================================\n",
      "Dep. Variable:             free_bikes   R-squared:                       0.032\n",
      "Model:                            OLS   Adj. R-squared:                  0.031\n",
      "Method:                 Least Squares   F-statistic:                     23.92\n",
      "Date:                Mon, 05 Jun 2023   Prob (F-statistic):           6.02e-11\n",
      "Time:                        14:38:58   Log-Likelihood:                -5349.7\n",
      "No. Observations:                1449   AIC:                         1.071e+04\n",
      "Df Residuals:                    1446   BIC:                         1.072e+04\n",
      "Df Model:                           2                                         \n",
      "Covariance Type:            nonrobust                                         \n",
      "==============================================================================\n",
      "                 coef    std err          t      P>|t|      [0.025      0.975]\n",
      "------------------------------------------------------------------------------\n",
      "const       2733.3501    411.950      6.635      0.000    1925.266    3541.434\n",
      "latitude     -56.0575      8.417     -6.660      0.000     -72.568     -39.547\n",
      "longitude      6.8121      4.544      1.499      0.134      -2.102      15.726\n",
      "==============================================================================\n",
      "Omnibus:                      385.001   Durbin-Watson:                   1.977\n",
      "Prob(Omnibus):                  0.000   Jarque-Bera (JB):              916.987\n",
      "Skew:                           1.443   Prob(JB):                    7.56e-200\n",
      "Kurtosis:                       5.619   Cond. No.                     7.90e+04\n",
      "==============================================================================\n",
      "\n",
      "Notes:\n",
      "[1] Standard Errors assume that the covariance matrix of the errors is correctly specified.\n",
      "[2] The condition number is large, 7.9e+04. This might indicate that there are\n",
      "strong multicollinearity or other numerical problems.\n"
     ]
    }
   ],
   "source": [
    "import numpy as np\n",
    "import pandas as pd\n",
    "import statsmodels.api as sm\n",
    "import sqlite3\n",
    "\n",
    "\n",
    "conn = sqlite3.connect(r'C:\\Users\\Jacob\\statistical_modelling-_with_python\\data\\results.db')\n",
    "df_results = pd.read_sql_query(\"SELECT * FROM mytable\", conn)\n",
    "conn.close()\n",
    "\n",
    "# drop na\n",
    "df_results_cleaned = df_results.dropna(subset=['free_bikes', 'latitude', 'longitude'])\n",
    "\n",
    "# Pick variables\n",
    "y = df_results_cleaned['free_bikes']\n",
    "X = df_results_cleaned[['latitude', 'longitude']]\n",
    "\n",
    "#y intercept\n",
    "X = sm.add_constant(X)\n",
    "model = sm.OLS(y, X)\n",
    "results = model.fit()\n",
    "\n",
    "# Print the summary of the regression model\n",
    "print(results.summary())\n",
    "\n",
    "\n",
    "\n"
   ]
  },
  {
   "cell_type": "markdown",
   "metadata": {},
   "source": [
    "Provide model output and an interpretation of the results. "
   ]
  },
  {
   "cell_type": "code",
   "execution_count": 3,
   "metadata": {},
   "outputs": [],
   "source": [
    "#Based on the given model output, the variable latitude is a good predictor of the number of free bikes available, \n",
    "#while longitude does not appear to be a significant predictor. However, the overall predictive power of the model, \n",
    "#as indicated by the low R-squared value (0.045),suggests limited ability of these variables to explain the variability in the number of free bikes.\n",
    "#Latitude affects free bikes significantly, while longitude's effect is inconclusive."
   ]
  },
  {
   "cell_type": "markdown",
   "metadata": {},
   "source": [
    "# Stretch"
   ]
  },
  {
   "cell_type": "markdown",
   "metadata": {},
   "source": [
    "How can you turn the regression model into a classification model?"
   ]
  },
  {
   "cell_type": "code",
   "execution_count": 15,
   "metadata": {},
   "outputs": [],
   "source": [
    "#to create a classification problem i need to categorize the free_bikes variable. The simple way would be to\n",
    "#define a new column called \"lots of free bikes\" and have its values be 1 or zero. The threshold value would be \n",
    "#the number of bikes required to become a 1."
   ]
  },
  {
   "cell_type": "code",
   "execution_count": null,
   "metadata": {},
   "outputs": [],
   "source": []
  }
 ],
 "metadata": {
  "kernelspec": {
   "display_name": "Python 3 (ipykernel)",
   "language": "python",
   "name": "python3"
  },
  "language_info": {
   "codemirror_mode": {
    "name": "ipython",
    "version": 3
   },
   "file_extension": ".py",
   "mimetype": "text/x-python",
   "name": "python",
   "nbconvert_exporter": "python",
   "pygments_lexer": "ipython3",
   "version": "3.10.9"
  }
 },
 "nbformat": 4,
 "nbformat_minor": 4
}
