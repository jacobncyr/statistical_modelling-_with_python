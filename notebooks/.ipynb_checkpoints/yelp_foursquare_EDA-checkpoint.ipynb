{
 "cells": [
  {
   "cell_type": "code",
   "execution_count": null,
   "metadata": {},
   "outputs": [],
   "source": [
    "# imports"
   ]
  },
  {
   "cell_type": "markdown",
   "metadata": {},
   "source": [
    "# Foursquare"
   ]
  },
  {
   "cell_type": "markdown",
   "metadata": {},
   "source": [
    "Send a request to Foursquare with a small radius (1000m) for all the bike stations in your city of choice. "
   ]
  },
  {
   "cell_type": "code",
   "execution_count": 30,
   "metadata": {},
   "outputs": [
    {
     "name": "stdout",
     "output_type": "stream",
     "text": [
      "{'fsq_id': '4bef289ff2712d7f8066fbd8', 'categories': [{'id': 17029, 'name': 'Convenience Store', 'icon': {'prefix': 'https://ss3.4sqi.net/img/categories_v2/shops/conveniencestore_', 'suffix': '.png'}}], 'geocodes': {'main': {'latitude': 52.137365, 'longitude': -106.743446}, 'roof': {'latitude': 52.137365, 'longitude': -106.743446}}, 'location': {'address': '3730 Diefenbaker Dr', 'address_extended': '# 1', 'country': 'CA', 'cross_street': '', 'formatted_address': '3730 Diefenbaker Dr, Saskatoon SK S7L 6R9', 'locality': 'Saskatoon', 'postcode': 'S7L 6R9', 'region': 'SK'}, 'name': \"Mac's Convenience Store\", 'price': 1}\n"
     ]
    }
   ],
   "source": [
    "import requests\n",
    "import pandas as pd\n",
    "\n",
    "url = \"https://api.foursquare.com/v3/places/search\"\n",
    "\n",
    "params = {\n",
    "    \"ll\": \"52.1367112,-106.7462857\",\n",
    "    \"radius\": 1000,\n",
    "    \"fields\": \"categories,rating,geocodes,categories,location,name,fsq_id,stats,price\",\n",
    "    \"limit\": 50\n",
    "}\n",
    "\n",
    "headers = {\n",
    "    \"accept\": \"application/json\",\n",
    "    \"Authorization\": \"fsq3aB5c7PNhhqT23DewFyJ7Easfex4oG/ymaLVxSui+7VE=\"\n",
    "}\n",
    "\n",
    "response = requests.get(url, params=params, headers=headers)\n",
    "\n",
    "if response.status_code == 200:\n",
    "    data = response.json()\n",
    "    # Extract rating from the data\n",
    "    ratings = [place.get('rating', 0) for place in data.get('results', [])]\n",
    "\n",
    "else:\n",
    "    print(\"Error retrieving place data\")\n",
    "print(data.get('results')[0])"
   ]
  },
  {
   "cell_type": "markdown",
   "metadata": {},
   "source": [
    "Parse through the response to get the POI (such as restaurants, bars, etc) details you want (ratings, name, location, etc)"
   ]
  },
  {
   "cell_type": "code",
   "execution_count": 37,
   "metadata": {},
   "outputs": [],
   "source": [
    "if response.status_code == 200:\n",
    "    data = response.json()\n",
    "    # Extract POI details\n",
    "    poi_details = []\n",
    "    for poi in data.get('results', []):\n",
    "        idd = poi.get('fsq_id', 0)\n",
    "        name = poi.get('name', 'no data')\n",
    "        rating = poi.get('rating', 0)\n",
    "        location = poi.get('location', {}).get('formatted_address', 'no data')\n",
    "        \n",
    "        poi_info = {\n",
    "            \"id\": idd,\n",
    "            \"name\": name,\n",
    "            \"rating\": rating,\n",
    "            \"location\": location\n",
    "        }\n",
    "\n",
    "        poi_details.append(poi_info)"
   ]
  },
  {
   "cell_type": "markdown",
   "metadata": {},
   "source": [
    "Put your parsed results into a DataFrame"
   ]
  },
  {
   "cell_type": "code",
   "execution_count": 38,
   "metadata": {},
   "outputs": [
    {
     "name": "stdout",
     "output_type": "stream",
     "text": [
      "                          id                                           name  \\\n",
      "0   4bef289ff2712d7f8066fbd8                        Mac's Convenience Store   \n",
      "1   e07a30ebbbaa4d4432409cc9                         Optimum Janitorial Svc   \n",
      "2   641a004069ad476ef5290aaa                Roto Static Carpet Cleaning Svc   \n",
      "3   89f8d796b87745a394681959        Leave It to Us Property Maintenance Ltd   \n",
      "4   71443403f1d840ea208e6b11                        National Bank of Canada   \n",
      "5   8562cb2680374451382f759c                           The Exchange Network   \n",
      "6   ccadd54eba6441f7b716b969                        R&L Cleaning & Home Svc   \n",
      "7   513dedec7ea54a269dc8adbc                     The Public House Grill Bar   \n",
      "8   027ff3f7b13c337471145e5d                              M & M Food Market   \n",
      "9   1f579e73629c420630204658  Heaven's Hands Therapeutic Massage Studio Inc   \n",
      "10  30fad7d7c05b46df69cb1104                  The Feisty Goat Bar and Grill   \n",
      "11  57b3f49b06324ded9296c644                                 Absolute Maids   \n",
      "12  2b8b52aa42374646a3c8ac0f                          Well Hung Sheet Metal   \n",
      "13  ed7756d39bfeac8b404f0c96                    Bitcoin Depot - Bitcoin ATM   \n",
      "14  8159738d537e4ef78e520429                       D & M Picker Rentals Ltd   \n",
      "15  472809804456441cb8902572                             ACA Counseling Svc   \n",
      "16  afe88205d2f5416d735da187                  Doctor Dave Computer Remedies   \n",
      "17  dd9d25505141416a9f06e841                   Steph Cooley Weed Specialist   \n",
      "18  306a8c48de5d441a9f675aeb                          Magnetsigns Saskatoon   \n",
      "19  ae77d1ab14e5422ab514ac04                Engineered Multimedia Solutions   \n",
      "20  bfef4adcb40b4ccde427acba             K's Kustom Cakes - Kassandra Roach   \n",
      "21  b13da04e54ae4d406a47d676               Mama Knows Best Natural Products   \n",
      "22  02a19adee66644a4e57950bf          Home Court Therapeutic Massage Clinic   \n",
      "23  67d16f85509249425965283a                             Folbar Enterprises   \n",
      "24  4b5376e9f964a520399e27e3                                    Shaw Centre   \n",
      "25  f631df8518ad48363de189f5                          Bridge City Music Svc   \n",
      "26  f304bafaadfd440ee00e42ca                         German Cultural Centre   \n",
      "27  5bba7a4099424a2385f558f4                            New Age Fencing Inc   \n",
      "28  eff96f424b8a4ec71eaf95a9                                 Vireo Creative   \n",
      "29  5ce74e687fa2471edd23389e                            JAC Wedding Accents   \n",
      "30  31a1d84f85a94c6a86b117da                  Mac & Sons Plumbing & Heating   \n",
      "31  a6eaf47c0f6247ee69f7caf7                 Bernie's Mobile Power Wash Ltd   \n",
      "32  9d92bb872d0b49d8be02ea88                          Saskatoon All-Terrain   \n",
      "33  48f0c052cec64213b394fb0b                      Boston Pizza Martensville   \n",
      "34  4e7b36fbad144222c6cd5ee3                     Oncall Computer Repair Svc   \n",
      "35  ab5af8a19cef4d19717cd923                  Prairie Mobile Communications   \n",
      "36  29b1042aeb1e4872f9af7fe0                            AMC Enterprises Ltd   \n",
      "37  1f877f4e1938448633eb6390             Van a Jump IT Consultant Saskatoon   \n",
      "38  eef69788d08c4ade7dda3c23                 Boys & Girls Club of Saskatoon   \n",
      "39  018a14cb2b9443d09a100499                                  J l Sales Ltd   \n",
      "40  066f735a68704adbcd5c8d1a                     Delta Coring & Cutting Inc   \n",
      "41  7018ba6ae4eb433da9c61ee5                              Jce Solutions Inc   \n",
      "42  adcf9794769f41237da74356                          Beaming Clean Windows   \n",
      "43  9098511336e84d76160fc605                                    Nisen Sushi   \n",
      "44  438102cf1fd340c0cb6c6647                          Redekop Manufacturing   \n",
      "45  780dd5baf76c4520ba248389                          Bao Kong Herbs Centre   \n",
      "46  f8731c258ef14befc52241e3                    Martino's Family Restaurant   \n",
      "47  74a85467465a432558091feb                             Central Irrigation   \n",
      "48  4e4f7e61f670477baed24010                                     Coco Bella   \n",
      "49  f5efa0dd5ab6481aec50c09c                                     City Perks   \n",
      "\n",
      "    rating                                           location  \n",
      "0      0.0          3730 Diefenbaker Dr, Saskatoon SK S7L 6R9  \n",
      "1      0.0              542 Fisher Cres, Saskatoon SK S7L 5E5  \n",
      "2      0.0               617 Lisgar Ave, Saskatoon SK S7L 5H1  \n",
      "3      0.0               609 Lisgar Ave, Saskatoon SK S7L 5H1  \n",
      "4      0.0          3730 Diefenbaker Dr, Saskatoon SK S7L 6R9  \n",
      "5      0.0          3730 Diefenbaker Dr, Saskatoon SK S7L 6R9  \n",
      "6      0.0              810 Steeves Ave, Saskatoon SK S7L 5N1  \n",
      "7      0.0          3730 Diefenbaker Dr, Saskatoon SK S7L 6R9  \n",
      "8      0.0          3730 Diefenbaker Dr, Saskatoon SK S7L 6R9  \n",
      "9      0.0          3730 Diefenbaker Dr, Saskatoon SK S7L 6R9  \n",
      "10     0.0                  3730 Diefenbaker Dr, Saskatoon SK  \n",
      "11     0.0              305 Vanier Cres, Saskatoon SK S7L 5H7  \n",
      "12     0.0                 29 Pope Cres, Saskatoon SK S7L 5K1  \n",
      "13     0.0          3730 Diefenbaker Dr, Saskatoon SK S7L 6R9  \n",
      "14     0.0              110 Vanier Cres, Saskatoon SK S7L 5H5  \n",
      "15     0.0             218 Johnson Cres, Saskatoon SK S7L 5P7  \n",
      "16     0.0               417 Lloyd Cres, Saskatoon SK S7L 5B6  \n",
      "17     0.0             221 Johnson Cres, Saskatoon SK S7L 5P6  \n",
      "18     0.0           222 Devonshire Way, Saskatoon SK S7L 5W3  \n",
      "19     0.0                207 Shea Cres, Saskatoon SK S7L 5M2  \n",
      "20     0.0             436 Meighen Cres, Saskatoon SK S7L 5H4  \n",
      "21     0.0           233 Devonshire Way, Saskatoon SK S7L 5W2  \n",
      "22     0.0          3000 Diefenbaker Dr, Saskatoon SK S7L 7K2  \n",
      "23     0.0            218 Cockburn Cres, Saskatoon SK S7L 5S2  \n",
      "24     7.3  122 Bowlt Cres (at 22nd St), Saskatoon SK S7M 0L1  \n",
      "25     0.0          334 St Laurent Cres, Saskatoon SK S7L 4X2  \n",
      "26     0.0              160 Carter Cres, Saskatoon SK S7L 7K4  \n",
      "27     0.0                  Steeves Ave, Saskatoon SK S7L 5N5  \n",
      "28     0.0                254 Shea Cres, Saskatoon SK S7L 5M3  \n",
      "29     0.0                   3907 Centennial Dr, Saskatoon SK  \n",
      "30     0.0            454 Langevin Cres, Saskatoon SK S7L 5R6  \n",
      "31     0.0             237 Meighen Cres, Saskatoon SK S7L 4W4  \n",
      "32     0.0              421 Dickey Cres, Saskatoon SK S7L 5P2  \n",
      "33     0.0          631 Centennial Dr S, Saskatoon SK S7K 3J4  \n",
      "34     0.0           3962 Centennial Dr, Saskatoon SK S7L 5L1  \n",
      "35     0.0             810 Centennial Blvd, Warman SK S0K 4S1  \n",
      "36     0.0             1031 Steeves Ave, Saskatoon SK S7L 5N6  \n",
      "37     0.0               522 Carter Way, Saskatoon SK S7L 7J1  \n",
      "38     0.0                24 Pearson Pl, Saskatoon SK S7L 4S7  \n",
      "39     0.0            258 Langevin Cres, Saskatoon SK S7L 5R3  \n",
      "40     0.0    3633 John A. MacDonald Rd, Saskatoon SK S7L 4X7  \n",
      "41     0.0             146 Palliser Crt, Saskatoon SK S7L 4P9  \n",
      "42     0.0           3522 Centennial Dr, Saskatoon SK S7L 5C2  \n",
      "43     0.0                              22 St E, Saskatoon SK  \n",
      "44     0.0                  Hwy 16 West, Saskatoon SK S7K 3J4  \n",
      "45     0.0                     8 Eby St, Saskatoon SK S7L 3R7  \n",
      "46     0.0                             Hwy 11 S, Saskatoon SK  \n",
      "47     0.0               602B 51st St E, Saskatoon SK S7K 7K3  \n",
      "48     0.0                1123 Moss Ave, Saskatoon SK S7H 5K8  \n",
      "49     0.0                          7 North Ave, Saskatoon SK  \n"
     ]
    }
   ],
   "source": [
    "# Create DataFrame\n",
    "df = pd.DataFrame(poi_details)\n",
    "    \n",
    "# Print the DataFrame\n",
    "print(df)"
   ]
  },
  {
   "cell_type": "markdown",
   "metadata": {},
   "source": [
    "# Yelp"
   ]
  },
  {
   "cell_type": "markdown",
   "metadata": {},
   "source": [
    "Send a request to Yelp with a small radius (1000m) for all the bike stations in your city of choice. "
   ]
  },
  {
   "cell_type": "code",
   "execution_count": 39,
   "metadata": {},
   "outputs": [],
   "source": [
    "import pandas as pd\n",
    "import requests\n",
    "\n",
    "# Set up your Yelp API credentials\n",
    "API_KEY = \"V6RfSQbnmYuJu5EBRgRikoCk-ScXUU38_M1rKj4CxeKGqmL0nGd1iLhkloqMVAsUK7uYrlpyE4OrIDRIrNO5lEPo60qcEEitGxX7tNBr8hRNu4RTHSKV_IztV2h7ZHYx\"\n",
    "\n",
    "# Define the base URL for Yelp Fusion API\n",
    "BASE_URL = \"https://api.yelp.com/v3\"\n",
    "\n",
    "# Search for businesses based on user input\n",
    "term = \"bar\"\n",
    "location = \"Regina\"\n",
    "headers = {\n",
    "    \"Authorization\": f\"Bearer {API_KEY}\"\n",
    "}\n",
    "params = {\n",
    "    \"term\": term,\n",
    "    \"location\": location\n",
    "}\n",
    "url = f\"{BASE_URL}/businesses/search\"\n",
    "response = requests.get(url, headers=headers, params=params)\n",
    "data = response.json()\n",
    "\n"
   ]
  },
  {
   "cell_type": "markdown",
   "metadata": {},
   "source": [
    "Parse through the response to get the POI (such as restaurants, bars, etc) details you want (ratings, name, location, etc)"
   ]
  },
  {
   "cell_type": "code",
   "execution_count": 40,
   "metadata": {},
   "outputs": [],
   "source": [
    "\n",
    "# Parse and store business information\n",
    "names = []\n",
    "ratings = []\n",
    "addresses = []\n",
    "phones = []\n",
    "\n",
    "\n",
    "for business in data[\"businesses\"]:\n",
    "    names.append(business['name'])\n",
    "    ratings.append(business.get('rating',0))\n",
    "    addresses.append(', '.join(business['location']['display_address']))\n",
    "    phones.append(business.get('phone', 'no data'))\n"
   ]
  },
  {
   "cell_type": "markdown",
   "metadata": {},
   "source": [
    "Put your parsed results into a DataFrame"
   ]
  },
  {
   "cell_type": "code",
   "execution_count": 41,
   "metadata": {},
   "outputs": [
    {
     "name": "stdout",
     "output_type": "stream",
     "text": [
      "                              Name  Rating  \\\n",
      "0                Victoria's Tavern     4.0   \n",
      "1                    Hookah Lounge     3.5   \n",
      "2             O'Hanlon's Irish Pub     3.5   \n",
      "3                   The Fat Badger     4.0   \n",
      "4        Cozy Winter Cuisine & Bar     3.0   \n",
      "5                 Leopold's Tavern     4.0   \n",
      "6   Birmingham's Vodka & Ale House     3.5   \n",
      "7          The Rooftop Bar & Grill     3.5   \n",
      "8              Knotted Thistle Pub     2.5   \n",
      "9                 Crown & Hand Pub     1.0   \n",
      "10    Hop & Vine Neighbourhood Pub     4.5   \n",
      "11             Shannon's Irish Pub     3.5   \n",
      "12          The Canadian Brewhouse     3.0   \n",
      "13             Homestead Bar A Vin     5.0   \n",
      "14         Creekside Pub & Brewery     3.5   \n",
      "15               Movado Sports Bar     3.0   \n",
      "16           Cathedral Social Hall     3.5   \n",
      "17          The Canadian Brewhouse     3.5   \n",
      "18       The Lobby Kitchen and Bar     3.0   \n",
      "19             Bonzzini's Brew Pub     1.5   \n",
      "\n",
      "                                              Address         Phone  \n",
      "0    1965 Hamilton Street, Regina, SK S4P 2C6, Canada  +13063528427  \n",
      "1       2115 Broad Street, Regina, SK S4P 1Y6, Canada  +13067753161  \n",
      "2      1947 Scarth Street, Regina, SK S4P 2H1, Canada  +13065664094  \n",
      "3      1852 Scarth Street, Regina, SK S4P 2G3, Canada  +13062061819  \n",
      "4     2410 Dewdney Avenue, Regina, SK S4R 1H6, Canada  +13065592080  \n",
      "5      2330 Albert Street, Regina, SK S4P 2V7, Canada  +13065255367  \n",
      "6   2635 Star Lite Street E, Regina, SK S4V 3E1, C...  +13065463647  \n",
      "7    1845 Victoria Avenue, Regina, SK S4P 0R2, Canada  +13063597663  \n",
      "8      4177 Albert Street, Regina, SK S4S 3R6, Canada  +13065846340  \n",
      "9     6330 Dewdney Avenue, Regina, SK S4T 1E3, Canada  +13065433535  \n",
      "10  3715 East Quance Gate, Regina, SK S4V 3A4, Canada  +13065461855  \n",
      "11   2118 Robinson Street, Regina, SK S4T 2P7, Canada  +13065694119  \n",
      "12       4820 Gordon Road, Regina, SK S4W 0B7, Canada  +13065222246  \n",
      "13  338 C University Park Drive, Regina, SK S4V 0Y...  +13065869720  \n",
      "14    3215 Eastgate Drive, Regina, SK S4Z 1A4, Canada  +13067212739  \n",
      "15  1800 Prince of Wales Drive, Regina, SK S4Z 1A4...  +13067902110  \n",
      "16     2062 Albert Street, Regina, SK S4P 2T7, Canada  +13063591661  \n",
      "17  2005 Prince of Wales Drive, Regina, SK S4V 3A3...  +13065221613  \n",
      "18    2545 S Broad Street, Regina, SK S4P 0M9, Canada  +13067895545  \n",
      "19     4634 Albert Street, Regina, SK S4S 6B4, Canada  +13065863553  \n"
     ]
    }
   ],
   "source": [
    "# Create a DataFrame\n",
    "df = pd.DataFrame({\n",
    "    'Name': names,\n",
    "    'Rating': ratings,\n",
    "    'Address': addresses,\n",
    "    'Phone': phones\n",
    "})\n",
    "\n",
    "# Print the DataFrame\n",
    "print(df)"
   ]
  },
  {
   "cell_type": "markdown",
   "metadata": {},
   "source": []
  },
  {
   "cell_type": "markdown",
   "metadata": {},
   "source": [
    "# Comparing Results"
   ]
  },
  {
   "cell_type": "markdown",
   "metadata": {},
   "source": [
    "Which API provided you with more complete data? Provide an explanation. "
   ]
  },
  {
   "cell_type": "markdown",
   "metadata": {},
   "source": []
  },
  {
   "cell_type": "markdown",
   "metadata": {},
   "source": [
    "Get the top 10 restaurants according to their rating"
   ]
  },
  {
   "cell_type": "code",
   "execution_count": 18,
   "metadata": {},
   "outputs": [],
   "source": [
    "#When it comes to the questions i can clearly see that yelp has better data than foursquare for\n",
    "#rating. The responses are detailed in their own ways plus achieving the data was not the same proces for either.\n",
    "#I wouldnt pick one or the other im a programmer, if i need the informationt here is a way i can get it. I guess i prefer\n",
    "#building params and ehaders from the requests library because its my most familiar from my hacker days."
   ]
  },
  {
   "cell_type": "code",
   "execution_count": 19,
   "metadata": {},
   "outputs": [
    {
     "name": "stdout",
     "output_type": "stream",
     "text": [
      "                       Name  Rating  \\\n",
      "0           Little Red Door     4.5   \n",
      "1                Dirty Dick     4.0   \n",
      "2                 Le Gatsby     5.0   \n",
      "3               La Lingerie     5.0   \n",
      "4   Lounge Bar View Rooftop     4.0   \n",
      "5           Cave du 38 Riv'     4.5   \n",
      "6                    Bisou.     4.5   \n",
      "7             Bar Hemingway     4.5   \n",
      "8               Les Ecuries     4.5   \n",
      "9                  No Entry     5.0   \n",
      "10                    Rehab     5.0   \n",
      "11               Le Bastide     5.0   \n",
      "12     Le 43 Up On The Roof     4.0   \n",
      "13          Little Bastards     4.5   \n",
      "14      Le Comptoir Général     4.0   \n",
      "15          Little Big Bear     5.0   \n",
      "16   The Frog & Underground     4.5   \n",
      "17                Le Cavern     4.5   \n",
      "18              Le Syndicat     4.5   \n",
      "19           N'importe Quoi     3.5   \n",
      "\n",
      "                                              Address         Phone  \n",
      "0                 60 rue Charlot, 75003 Paris, France  +33142711932  \n",
      "1                 10 rue Frochot, 75009 Paris, France  +33148787458  \n",
      "2              64 avenue Bosquet, 75007 Paris, France  +33145515624  \n",
      "3    82 avenue Denfert Rochereau, 75014 Paris, France                \n",
      "4           257 rue de Vaugirard, 75015 Paris, France  +33140451290  \n",
      "5               38 rue de Rivoli, 75004 Paris, France  +33148875630  \n",
      "6         15 boulevard du Temple, 75003 Paris, France  +33140278285  \n",
      "7               15 place Vendôme, 75001 Paris, France  +33143163374  \n",
      "8               8 rue Bachaumont, 75002 Paris, France  +33140268006  \n",
      "9            20 bis rue de Douai, 75009 Paris, France  +33667249925  \n",
      "10          254 rue Saint-Honoré, 75001 Paris, France  +33142603021  \n",
      "11               18 rue de Lappe, 75011 Paris, France                \n",
      "12                  4 rue Danton, 75006 Paris, France  +33181690060  \n",
      "13              5 rue Blainville, 75005 Paris, France  +33143542833  \n",
      "14           80 quai de Jemmapes, 75010 Paris, France  +33144882448  \n",
      "15     45 rue Monsieur le Prince, 75006 Paris, France  +33143264569  \n",
      "16            176 rue Montmartre, 75002 Paris, France  +33144820472  \n",
      "17               21 rue Dauphine, 75006 Paris, France  +33143545382  \n",
      "18  51 rue du Faubourg Saint-Denis, 75010 Paris, F...                \n",
      "19               16 rue du Roule, 75001 Paris, France  +33140262971  \n"
     ]
    }
   ],
   "source": [
    "\n",
    "print(df)"
   ]
  },
  {
   "cell_type": "code",
   "execution_count": null,
   "metadata": {},
   "outputs": [],
   "source": []
  },
  {
   "cell_type": "code",
   "execution_count": null,
   "metadata": {},
   "outputs": [],
   "source": []
  },
  {
   "cell_type": "code",
   "execution_count": null,
   "metadata": {},
   "outputs": [],
   "source": []
  }
 ],
 "metadata": {
  "kernelspec": {
   "display_name": "Python 3 (ipykernel)",
   "language": "python",
   "name": "python3"
  },
  "language_info": {
   "codemirror_mode": {
    "name": "ipython",
    "version": 3
   },
   "file_extension": ".py",
   "mimetype": "text/x-python",
   "name": "python",
   "nbconvert_exporter": "python",
   "pygments_lexer": "ipython3",
   "version": "3.10.9"
  }
 },
 "nbformat": 4,
 "nbformat_minor": 4
}
