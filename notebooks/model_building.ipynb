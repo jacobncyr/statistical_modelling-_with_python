{
 "cells": [
  {
   "cell_type": "markdown",
   "metadata": {},
   "source": [
    "Build a regression model."
   ]
  },
  {
   "cell_type": "code",
   "execution_count": 1,
   "metadata": {},
   "outputs": [
    {
     "name": "stdout",
     "output_type": "stream",
     "text": [
      "\n",
      "Data from 'results' table:\n",
      "<class 'pandas.core.frame.DataFrame'>\n",
      "RangeIndex: 1502 entries, 0 to 1501\n",
      "Data columns (total 19 columns):\n",
      " #   Column            Non-Null Count  Dtype  \n",
      "---  ------            --------------  -----  \n",
      " 0   empty_slots       1449 non-null   float64\n",
      " 1   free_bikes        1449 non-null   float64\n",
      " 2   id                1499 non-null   object \n",
      " 3   latitude          1449 non-null   float64\n",
      " 4   longitude         1449 non-null   float64\n",
      " 5   name              1502 non-null   object \n",
      " 6   timestamp         1449 non-null   object \n",
      " 7   banking           1449 non-null   float64\n",
      " 8   ebikes            1449 non-null   float64\n",
      " 9   last_updated      1449 non-null   float64\n",
      " 10  payment-terminal  1449 non-null   float64\n",
      " 11  renting           1449 non-null   float64\n",
      " 12  returning         1449 non-null   float64\n",
      " 13  slots             1449 non-null   float64\n",
      " 14  station_id        1449 non-null   float64\n",
      " 15  uid               1449 non-null   object \n",
      " 16  location          50 non-null     object \n",
      " 17  addresses         3 non-null      object \n",
      " 18  phone             3 non-null      object \n",
      "dtypes: float64(12), object(7)\n",
      "memory usage: 223.1+ KB\n",
      "None\n",
      "                            OLS Regression Results                            \n",
      "==============================================================================\n",
      "Dep. Variable:             free_bikes   R-squared:                       0.039\n",
      "Model:                            OLS   Adj. R-squared:                  0.037\n",
      "Method:                 Least Squares   F-statistic:                     28.97\n",
      "Date:                Mon, 05 Jun 2023   Prob (F-statistic):           4.60e-13\n",
      "Time:                        12:24:33   Log-Likelihood:                -5181.2\n",
      "No. Observations:                1449   AIC:                         1.037e+04\n",
      "Df Residuals:                    1446   BIC:                         1.038e+04\n",
      "Df Model:                           2                                         \n",
      "Covariance Type:            nonrobust                                         \n",
      "==============================================================================\n",
      "                 coef    std err          t      P>|t|      [0.025      0.975]\n",
      "------------------------------------------------------------------------------\n",
      "const       2798.4910    366.724      7.631      0.000    2079.124    3517.858\n",
      "latitude     -57.0316      7.493     -7.612      0.000     -71.729     -42.334\n",
      "longitude     -1.3135      4.045     -0.325      0.745      -9.249       6.622\n",
      "==============================================================================\n",
      "Omnibus:                      444.892   Durbin-Watson:                   2.020\n",
      "Prob(Omnibus):                  0.000   Jarque-Bera (JB):             1259.022\n",
      "Skew:                           1.583   Prob(JB):                    4.04e-274\n",
      "Kurtosis:                       6.291   Cond. No.                     7.90e+04\n",
      "==============================================================================\n",
      "\n",
      "Notes:\n",
      "[1] Standard Errors assume that the covariance matrix of the errors is correctly specified.\n",
      "[2] The condition number is large, 7.9e+04. This might indicate that there are\n",
      "strong multicollinearity or other numerical problems.\n"
     ]
    }
   ],
   "source": [
    "import numpy as np\n",
    "import pandas as pd\n",
    "import statsmodels.api as sm\n",
    "import sqlite3\n",
    "\n",
    "conn = sqlite3.connect(r'C:\\Users\\Jacob\\statistical_modelling-_with_python\\data\\results.db')\n",
    "df_results = pd.read_sql_query(\"SELECT * FROM results\", conn)\n",
    "print(\"\\nData from 'results' table:\")\n",
    "print(df_results.info())\n",
    "conn.close()\n",
    "\n",
    "# Drop rows with missing values\n",
    "df_results_cleaned = df_results.dropna(subset=['free_bikes', 'latitude', 'longitude'])\n",
    "\n",
    "# Pick variables\n",
    "y = df_results_cleaned['free_bikes']\n",
    "X = df_results_cleaned[['latitude', 'longitude']]\n",
    "\n",
    "# TODO figure out how ot use ~ notation\n",
    "model = sm.OLS(y, sm.add_constant(X))\n",
    "\n",
    "# Fit the model\n",
    "results = model.fit()\n",
    "\n",
    "# Print the summary of the regression model\n",
    "print(results.summary())\n",
    "\n",
    "\n"
   ]
  },
  {
   "cell_type": "markdown",
   "metadata": {},
   "source": [
    "Provide model output and an interpretation of the results. "
   ]
  },
  {
   "cell_type": "code",
   "execution_count": 2,
   "metadata": {},
   "outputs": [],
   "source": [
    "#Based on the given model output, the variable latitude is a good predictor of the number of free bikes available, \n",
    "#while longitude does not appear to be a significant predictor. However, the overall predictive power of the model, \n",
    "#as indicated by the low R-squared value (0.045),suggests limited ability of these variables to explain the variability in the number of free bikes."
   ]
  },
  {
   "cell_type": "markdown",
   "metadata": {},
   "source": [
    "# Stretch"
   ]
  },
  {
   "cell_type": "markdown",
   "metadata": {},
   "source": [
    "How can you turn the regression model into a classification model?"
   ]
  },
  {
   "cell_type": "code",
   "execution_count": 15,
   "metadata": {},
   "outputs": [],
   "source": [
    "#to create a classification problem i need to categorize the free_bikes variable. The simple way would be to\n",
    "#define a new column called \"lots of free bikes\" and have its values be 1 or zero. The threshold value would be \n",
    "#the number of bikes required to become a 1."
   ]
  },
  {
   "cell_type": "code",
   "execution_count": null,
   "metadata": {},
   "outputs": [],
   "source": []
  }
 ],
 "metadata": {
  "kernelspec": {
   "display_name": "Python 3 (ipykernel)",
   "language": "python",
   "name": "python3"
  },
  "language_info": {
   "codemirror_mode": {
    "name": "ipython",
    "version": 3
   },
   "file_extension": ".py",
   "mimetype": "text/x-python",
   "name": "python",
   "nbconvert_exporter": "python",
   "pygments_lexer": "ipython3",
   "version": "3.10.9"
  }
 },
 "nbformat": 4,
 "nbformat_minor": 4
}
