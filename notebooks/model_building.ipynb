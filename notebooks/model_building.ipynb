{
 "cells": [
  {
   "cell_type": "markdown",
   "metadata": {},
   "source": [
    "Build a regression model."
   ]
  },
  {
   "cell_type": "code",
   "execution_count": 14,
   "metadata": {},
   "outputs": [
    {
     "name": "stdout",
     "output_type": "stream",
     "text": [
      "                            OLS Regression Results                            \n",
      "==============================================================================\n",
      "Dep. Variable:             free_bikes   R-squared:                       0.289\n",
      "Model:                            OLS   Adj. R-squared:                  0.287\n",
      "Method:                 Least Squares   F-statistic:                     195.7\n",
      "Date:                Sun, 04 Jun 2023   Prob (F-statistic):          1.66e-106\n",
      "Time:                        07:55:24   Log-Likelihood:                -5315.0\n",
      "No. Observations:                1450   AIC:                         1.064e+04\n",
      "Df Residuals:                    1446   BIC:                         1.066e+04\n",
      "Df Model:                           3                                         \n",
      "Covariance Type:            nonrobust                                         \n",
      "===============================================================================\n",
      "                  coef    std err          t      P>|t|      [0.025      0.975]\n",
      "-------------------------------------------------------------------------------\n",
      "const        2971.4826    406.207      7.315      0.000    2174.665    3768.300\n",
      "empty_slots    -0.4395      0.020    -21.690      0.000      -0.479      -0.400\n",
      "longitude      -0.2725      4.429     -0.062      0.951      -8.961       8.416\n",
      "latitude      -60.4187      8.300     -7.279      0.000     -76.700     -44.137\n",
      "==============================================================================\n",
      "Omnibus:                      468.495   Durbin-Watson:                   2.001\n",
      "Prob(Omnibus):                  0.000   Jarque-Bera (JB):             1517.875\n",
      "Skew:                           1.605   Prob(JB):                         0.00\n",
      "Kurtosis:                       6.850   Cond. No.                     8.68e+04\n",
      "==============================================================================\n",
      "\n",
      "Notes:\n",
      "[1] Standard Errors assume that the covariance matrix of the errors is correctly specified.\n",
      "[2] The condition number is large, 8.68e+04. This might indicate that there are\n",
      "strong multicollinearity or other numerical problems.\n"
     ]
    }
   ],
   "source": [
    "import sqlite3\n",
    "import pandas as pd\n",
    "from sklearn.linear_model import LinearRegression\n",
    "import statsmodels.api as sm\n",
    "conn = sqlite3.connect(r'C:\\Users\\juju\\Desktop\\statistical_modelling-_with_python\\data\\results.db')\n",
    "df_results = pd.read_sql_query(\"SELECT * FROM results\", conn)\n",
    "conn.close()\n",
    "X = df[['empty_slots', 'longitude', 'latitude']]\n",
    "X = sm.add_constant(X)\n",
    "model = sm.OLS(y, X)\n",
    "results = model.fit()\n",
    "print(results.summary())\n",
    "\n",
    "\n"
   ]
  },
  {
   "cell_type": "markdown",
   "metadata": {},
   "source": [
    "Provide model output and an interpretation of the results. "
   ]
  },
  {
   "cell_type": "code",
   "execution_count": null,
   "metadata": {},
   "outputs": [],
   "source": [
    "#this is my model as we can see the longuitude is not a good predictor of free_bikes. \n",
    "#latitude and empty_slots are better rpedictors. althought his data looks biased or overfit."
   ]
  },
  {
   "cell_type": "markdown",
   "metadata": {},
   "source": [
    "# Stretch"
   ]
  },
  {
   "cell_type": "markdown",
   "metadata": {},
   "source": [
    "How can you turn the regression model into a classification model?"
   ]
  },
  {
   "cell_type": "code",
   "execution_count": 15,
   "metadata": {},
   "outputs": [],
   "source": [
    "#to create a classification problem i need to categorize the free_bikes variable. The simple way would be to\n",
    "#define a new column called \"lots of free bikes\" and have its values be 1 or zero. The threshold value would be \n",
    "#the number of bikes required to become a 1."
   ]
  },
  {
   "cell_type": "code",
   "execution_count": null,
   "metadata": {},
   "outputs": [],
   "source": []
  }
 ],
 "metadata": {
  "kernelspec": {
   "display_name": "Python 3 (ipykernel)",
   "language": "python",
   "name": "python3"
  },
  "language_info": {
   "codemirror_mode": {
    "name": "ipython",
    "version": 3
   },
   "file_extension": ".py",
   "mimetype": "text/x-python",
   "name": "python",
   "nbconvert_exporter": "python",
   "pygments_lexer": "ipython3",
   "version": "3.10.9"
  }
 },
 "nbformat": 4,
 "nbformat_minor": 4
}
